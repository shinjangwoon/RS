{
 "cells": [
  {
   "cell_type": "markdown",
   "metadata": {},
   "source": [
    "# User-based Collaborative Filtering"
   ]
  },
  {
   "cell_type": "markdown",
   "metadata": {},
   "source": [
    "Import Packages"
   ]
  },
  {
   "cell_type": "code",
   "execution_count": 1,
   "metadata": {},
   "outputs": [],
   "source": [
    "%run liblecture.py\n",
    "\n",
    "from numpy import linalg as LA\n",
    "import scipy.sparse as sp"
   ]
  },
  {
   "cell_type": "markdown",
   "metadata": {},
   "source": [
    "## Read Data: movies and ratings"
   ]
  },
  {
   "cell_type": "markdown",
   "metadata": {},
   "source": [
    "Read Movies"
   ]
  },
  {
   "cell_type": "code",
   "execution_count": 2,
   "metadata": {},
   "outputs": [
    {
     "data": {
      "text/html": [
       "<div>\n",
       "<style scoped>\n",
       "    .dataframe tbody tr th:only-of-type {\n",
       "        vertical-align: middle;\n",
       "    }\n",
       "\n",
       "    .dataframe tbody tr th {\n",
       "        vertical-align: top;\n",
       "    }\n",
       "\n",
       "    .dataframe thead th {\n",
       "        text-align: right;\n",
       "    }\n",
       "</style>\n",
       "<table border=\"1\" class=\"dataframe\">\n",
       "  <thead>\n",
       "    <tr style=\"text-align: right;\">\n",
       "      <th></th>\n",
       "      <th>movieId</th>\n",
       "      <th>imdbId</th>\n",
       "      <th>title</th>\n",
       "      <th>genres</th>\n",
       "      <th>imgurl</th>\n",
       "    </tr>\n",
       "  </thead>\n",
       "  <tbody>\n",
       "    <tr>\n",
       "      <th>0</th>\n",
       "      <td>1</td>\n",
       "      <td>114709</td>\n",
       "      <td>Toy Story (1995)</td>\n",
       "      <td>Adventure|Animation|Children|Comedy|Fantasy</td>\n",
       "      <td>https://images-na.ssl-images-amazon.com/images...</td>\n",
       "    </tr>\n",
       "    <tr>\n",
       "      <th>1</th>\n",
       "      <td>2</td>\n",
       "      <td>113497</td>\n",
       "      <td>Jumanji (1995)</td>\n",
       "      <td>Adventure|Children|Fantasy</td>\n",
       "      <td>https://images-na.ssl-images-amazon.com/images...</td>\n",
       "    </tr>\n",
       "    <tr>\n",
       "      <th>2</th>\n",
       "      <td>3</td>\n",
       "      <td>113228</td>\n",
       "      <td>Grumpier Old Men (1995)</td>\n",
       "      <td>Comedy|Romance</td>\n",
       "      <td>https://images-na.ssl-images-amazon.com/images...</td>\n",
       "    </tr>\n",
       "    <tr>\n",
       "      <th>3</th>\n",
       "      <td>4</td>\n",
       "      <td>114885</td>\n",
       "      <td>Waiting to Exhale (1995)</td>\n",
       "      <td>Comedy|Drama|Romance</td>\n",
       "      <td>https://images-na.ssl-images-amazon.com/images...</td>\n",
       "    </tr>\n",
       "    <tr>\n",
       "      <th>4</th>\n",
       "      <td>5</td>\n",
       "      <td>113041</td>\n",
       "      <td>Father of the Bride Part II (1995)</td>\n",
       "      <td>Comedy</td>\n",
       "      <td>https://images-na.ssl-images-amazon.com/images...</td>\n",
       "    </tr>\n",
       "    <tr>\n",
       "      <th>...</th>\n",
       "      <td>...</td>\n",
       "      <td>...</td>\n",
       "      <td>...</td>\n",
       "      <td>...</td>\n",
       "      <td>...</td>\n",
       "    </tr>\n",
       "    <tr>\n",
       "      <th>9120</th>\n",
       "      <td>162672</td>\n",
       "      <td>3859980</td>\n",
       "      <td>Mohenjo Daro (2016)</td>\n",
       "      <td>Adventure|Drama|Romance</td>\n",
       "      <td>https://images-na.ssl-images-amazon.com/images...</td>\n",
       "    </tr>\n",
       "    <tr>\n",
       "      <th>9121</th>\n",
       "      <td>163056</td>\n",
       "      <td>4262980</td>\n",
       "      <td>Shin Godzilla (2016)</td>\n",
       "      <td>Action|Adventure|Fantasy|Sci-Fi</td>\n",
       "      <td>https://images-na.ssl-images-amazon.com/images...</td>\n",
       "    </tr>\n",
       "    <tr>\n",
       "      <th>9122</th>\n",
       "      <td>163949</td>\n",
       "      <td>2531318</td>\n",
       "      <td>The Beatles: Eight Days a Week - The Touring Y...</td>\n",
       "      <td>Documentary</td>\n",
       "      <td>https://images-na.ssl-images-amazon.com/images...</td>\n",
       "    </tr>\n",
       "    <tr>\n",
       "      <th>9123</th>\n",
       "      <td>164977</td>\n",
       "      <td>27660</td>\n",
       "      <td>The Gay Desperado (1936)</td>\n",
       "      <td>Comedy</td>\n",
       "      <td>https://images-na.ssl-images-amazon.com/images...</td>\n",
       "    </tr>\n",
       "    <tr>\n",
       "      <th>9124</th>\n",
       "      <td>164979</td>\n",
       "      <td>3447228</td>\n",
       "      <td>Women of '69, Unboxed</td>\n",
       "      <td>Documentary</td>\n",
       "      <td>https://images-na.ssl-images-amazon.com/images...</td>\n",
       "    </tr>\n",
       "  </tbody>\n",
       "</table>\n",
       "<p>9125 rows × 5 columns</p>\n",
       "</div>"
      ],
      "text/plain": [
       "      movieId   imdbId                                              title  \\\n",
       "0           1   114709                                   Toy Story (1995)   \n",
       "1           2   113497                                     Jumanji (1995)   \n",
       "2           3   113228                            Grumpier Old Men (1995)   \n",
       "3           4   114885                           Waiting to Exhale (1995)   \n",
       "4           5   113041                 Father of the Bride Part II (1995)   \n",
       "...       ...      ...                                                ...   \n",
       "9120   162672  3859980                                Mohenjo Daro (2016)   \n",
       "9121   163056  4262980                               Shin Godzilla (2016)   \n",
       "9122   163949  2531318  The Beatles: Eight Days a Week - The Touring Y...   \n",
       "9123   164977    27660                           The Gay Desperado (1936)   \n",
       "9124   164979  3447228                              Women of '69, Unboxed   \n",
       "\n",
       "                                           genres  \\\n",
       "0     Adventure|Animation|Children|Comedy|Fantasy   \n",
       "1                      Adventure|Children|Fantasy   \n",
       "2                                  Comedy|Romance   \n",
       "3                            Comedy|Drama|Romance   \n",
       "4                                          Comedy   \n",
       "...                                           ...   \n",
       "9120                      Adventure|Drama|Romance   \n",
       "9121              Action|Adventure|Fantasy|Sci-Fi   \n",
       "9122                                  Documentary   \n",
       "9123                                       Comedy   \n",
       "9124                                  Documentary   \n",
       "\n",
       "                                                 imgurl  \n",
       "0     https://images-na.ssl-images-amazon.com/images...  \n",
       "1     https://images-na.ssl-images-amazon.com/images...  \n",
       "2     https://images-na.ssl-images-amazon.com/images...  \n",
       "3     https://images-na.ssl-images-amazon.com/images...  \n",
       "4     https://images-na.ssl-images-amazon.com/images...  \n",
       "...                                                 ...  \n",
       "9120  https://images-na.ssl-images-amazon.com/images...  \n",
       "9121  https://images-na.ssl-images-amazon.com/images...  \n",
       "9122  https://images-na.ssl-images-amazon.com/images...  \n",
       "9123  https://images-na.ssl-images-amazon.com/images...  \n",
       "9124  https://images-na.ssl-images-amazon.com/images...  \n",
       "\n",
       "[9125 rows x 5 columns]"
      ]
     },
     "execution_count": 2,
     "metadata": {},
     "output_type": "execute_result"
    }
   ],
   "source": [
    "movies = pd.read_csv('movielens/movies_w_imgurl.csv')\n",
    "movies"
   ]
  },
  {
   "cell_type": "markdown",
   "metadata": {},
   "source": [
    "Read Rating Data"
   ]
  },
  {
   "cell_type": "code",
   "execution_count": 3,
   "metadata": {},
   "outputs": [],
   "source": [
    "ratings = pd.read_csv('ratings-9_1.csv')\n",
    "\n",
    "train = ratings[ratings['type'] == 'train'][['userId', 'movieId', 'rating']]\n",
    "test = ratings[ratings['type'] == 'test'][['userId', 'movieId', 'rating']]"
   ]
  },
  {
   "cell_type": "markdown",
   "metadata": {},
   "source": [
    "## Convert Ratings to User-Item Sparse Matrix"
   ]
  },
  {
   "cell_type": "markdown",
   "metadata": {},
   "source": [
    "### Create Index to Id Maps"
   ]
  },
  {
   "cell_type": "code",
   "execution_count": 4,
   "metadata": {},
   "outputs": [],
   "source": [
    "movieIds = train.movieId.unique()\n",
    "\n",
    "movieIdToIndex = {}\n",
    "indexToMovieId = {}\n",
    "\n",
    "colIdx = 0\n",
    "\n",
    "for movieId in movieIds:\n",
    "    movieIdToIndex[movieId] = colIdx\n",
    "    indexToMovieId[colIdx] = movieId\n",
    "    colIdx += 1"
   ]
  },
  {
   "cell_type": "code",
   "execution_count": 5,
   "metadata": {},
   "outputs": [],
   "source": [
    "userIds = train.userId.unique()\n",
    "\n",
    "userIdToIndex = {}\n",
    "indexToUserId = {}\n",
    "\n",
    "rowIdx = 0\n",
    "\n",
    "for userId in userIds:\n",
    "    userIdToIndex[userId] = rowIdx\n",
    "    indexToUserId[rowIdx] = userId\n",
    "    rowIdx += 1"
   ]
  },
  {
   "cell_type": "markdown",
   "metadata": {},
   "source": [
    "### Creat User-Item Sparse Matrix"
   ]
  },
  {
   "cell_type": "code",
   "execution_count": 6,
   "metadata": {},
   "outputs": [
    {
     "data": {
      "text/plain": [
       "(671, 8740)"
      ]
     },
     "execution_count": 6,
     "metadata": {},
     "output_type": "execute_result"
    }
   ],
   "source": [
    "rows = []\n",
    "cols = []\n",
    "vals = []\n",
    "\n",
    "for row in train.itertuples():\n",
    "    rows.append(userIdToIndex[row.userId])\n",
    "    cols.append(movieIdToIndex[row.movieId])\n",
    "    vals.append(row.rating)\n",
    "\n",
    "coomat = sp.coo_matrix((vals, (rows, cols)), shape=(rowIdx, colIdx))\n",
    "\n",
    "matrix = coomat.todense()\n",
    "matrix.shape"
   ]
  },
  {
   "cell_type": "markdown",
   "metadata": {},
   "source": [
    "## Compute User-User Similarities"
   ]
  },
  {
   "cell_type": "markdown",
   "metadata": {},
   "source": [
    "Compute $l_2$-norm"
   ]
  },
  {
   "cell_type": "code",
   "execution_count": 7,
   "metadata": {},
   "outputs": [
    {
     "data": {
      "text/plain": [
       "(671,)"
      ]
     },
     "execution_count": 7,
     "metadata": {},
     "output_type": "execute_result"
    }
   ],
   "source": [
    "norms = LA.norm(matrix, ord = 2, axis=1)\n",
    "norms.shape"
   ]
  },
  {
   "cell_type": "markdown",
   "metadata": {},
   "source": [
    "Normalize Row Vectors"
   ]
  },
  {
   "cell_type": "code",
   "execution_count": 8,
   "metadata": {},
   "outputs": [
    {
     "data": {
      "text/plain": [
       "(671, 8740)"
      ]
     },
     "execution_count": 8,
     "metadata": {},
     "output_type": "execute_result"
    }
   ],
   "source": [
    "normmat = np.divide(matrix.T, norms).T\n",
    "normmat.shape"
   ]
  },
  {
   "cell_type": "markdown",
   "metadata": {},
   "source": [
    "Compute Similarities ( = inner product)"
   ]
  },
  {
   "cell_type": "code",
   "execution_count": 9,
   "metadata": {},
   "outputs": [
    {
     "data": {
      "text/html": [
       "<div>\n",
       "<style scoped>\n",
       "    .dataframe tbody tr th:only-of-type {\n",
       "        vertical-align: middle;\n",
       "    }\n",
       "\n",
       "    .dataframe tbody tr th {\n",
       "        vertical-align: top;\n",
       "    }\n",
       "\n",
       "    .dataframe thead th {\n",
       "        text-align: right;\n",
       "    }\n",
       "</style>\n",
       "<table border=\"1\" class=\"dataframe\">\n",
       "  <thead>\n",
       "    <tr style=\"text-align: right;\">\n",
       "      <th></th>\n",
       "      <th>1</th>\n",
       "      <th>2</th>\n",
       "      <th>3</th>\n",
       "      <th>4</th>\n",
       "      <th>5</th>\n",
       "      <th>6</th>\n",
       "      <th>7</th>\n",
       "      <th>8</th>\n",
       "      <th>9</th>\n",
       "      <th>10</th>\n",
       "      <th>...</th>\n",
       "      <th>662</th>\n",
       "      <th>663</th>\n",
       "      <th>664</th>\n",
       "      <th>665</th>\n",
       "      <th>666</th>\n",
       "      <th>667</th>\n",
       "      <th>668</th>\n",
       "      <th>669</th>\n",
       "      <th>670</th>\n",
       "      <th>671</th>\n",
       "    </tr>\n",
       "  </thead>\n",
       "  <tbody>\n",
       "    <tr>\n",
       "      <th>1</th>\n",
       "      <td>1.00</td>\n",
       "      <td>0.00e+00</td>\n",
       "      <td>0.00</td>\n",
       "      <td>0.07</td>\n",
       "      <td>0.02</td>\n",
       "      <td>0.00</td>\n",
       "      <td>0.08</td>\n",
       "      <td>0.00</td>\n",
       "      <td>1.38e-02</td>\n",
       "      <td>0.00</td>\n",
       "      <td>...</td>\n",
       "      <td>0.00</td>\n",
       "      <td>0.00</td>\n",
       "      <td>0.02</td>\n",
       "      <td>0.03</td>\n",
       "      <td>0.00</td>\n",
       "      <td>0.00</td>\n",
       "      <td>0.00</td>\n",
       "      <td>6.72e-02</td>\n",
       "      <td>0.00</td>\n",
       "      <td>0.00</td>\n",
       "    </tr>\n",
       "    <tr>\n",
       "      <th>2</th>\n",
       "      <td>0.00</td>\n",
       "      <td>1.00e+00</td>\n",
       "      <td>0.10</td>\n",
       "      <td>0.11</td>\n",
       "      <td>0.10</td>\n",
       "      <td>0.00</td>\n",
       "      <td>0.18</td>\n",
       "      <td>0.11</td>\n",
       "      <td>1.18e-01</td>\n",
       "      <td>0.05</td>\n",
       "      <td>...</td>\n",
       "      <td>0.46</td>\n",
       "      <td>0.04</td>\n",
       "      <td>0.07</td>\n",
       "      <td>0.15</td>\n",
       "      <td>0.43</td>\n",
       "      <td>0.35</td>\n",
       "      <td>0.09</td>\n",
       "      <td>6.22e-03</td>\n",
       "      <td>0.15</td>\n",
       "      <td>0.07</td>\n",
       "    </tr>\n",
       "    <tr>\n",
       "      <th>3</th>\n",
       "      <td>0.00</td>\n",
       "      <td>1.04e-01</td>\n",
       "      <td>1.00</td>\n",
       "      <td>0.08</td>\n",
       "      <td>0.15</td>\n",
       "      <td>0.04</td>\n",
       "      <td>0.17</td>\n",
       "      <td>0.27</td>\n",
       "      <td>1.43e-01</td>\n",
       "      <td>0.08</td>\n",
       "      <td>...</td>\n",
       "      <td>0.16</td>\n",
       "      <td>0.07</td>\n",
       "      <td>0.14</td>\n",
       "      <td>0.16</td>\n",
       "      <td>0.19</td>\n",
       "      <td>0.10</td>\n",
       "      <td>0.14</td>\n",
       "      <td>8.54e-02</td>\n",
       "      <td>0.11</td>\n",
       "      <td>0.16</td>\n",
       "    </tr>\n",
       "    <tr>\n",
       "      <th>4</th>\n",
       "      <td>0.07</td>\n",
       "      <td>1.07e-01</td>\n",
       "      <td>0.08</td>\n",
       "      <td>1.00</td>\n",
       "      <td>0.11</td>\n",
       "      <td>0.07</td>\n",
       "      <td>0.29</td>\n",
       "      <td>0.15</td>\n",
       "      <td>9.89e-03</td>\n",
       "      <td>0.10</td>\n",
       "      <td>...</td>\n",
       "      <td>0.11</td>\n",
       "      <td>0.03</td>\n",
       "      <td>0.11</td>\n",
       "      <td>0.21</td>\n",
       "      <td>0.13</td>\n",
       "      <td>0.07</td>\n",
       "      <td>0.08</td>\n",
       "      <td>9.22e-02</td>\n",
       "      <td>0.04</td>\n",
       "      <td>0.14</td>\n",
       "    </tr>\n",
       "    <tr>\n",
       "      <th>5</th>\n",
       "      <td>0.02</td>\n",
       "      <td>1.04e-01</td>\n",
       "      <td>0.15</td>\n",
       "      <td>0.11</td>\n",
       "      <td>1.00</td>\n",
       "      <td>0.07</td>\n",
       "      <td>0.08</td>\n",
       "      <td>0.13</td>\n",
       "      <td>9.35e-02</td>\n",
       "      <td>0.04</td>\n",
       "      <td>...</td>\n",
       "      <td>0.19</td>\n",
       "      <td>0.02</td>\n",
       "      <td>0.11</td>\n",
       "      <td>0.20</td>\n",
       "      <td>0.15</td>\n",
       "      <td>0.03</td>\n",
       "      <td>0.05</td>\n",
       "      <td>2.06e-02</td>\n",
       "      <td>0.06</td>\n",
       "      <td>0.22</td>\n",
       "    </tr>\n",
       "    <tr>\n",
       "      <th>...</th>\n",
       "      <td>...</td>\n",
       "      <td>...</td>\n",
       "      <td>...</td>\n",
       "      <td>...</td>\n",
       "      <td>...</td>\n",
       "      <td>...</td>\n",
       "      <td>...</td>\n",
       "      <td>...</td>\n",
       "      <td>...</td>\n",
       "      <td>...</td>\n",
       "      <td>...</td>\n",
       "      <td>...</td>\n",
       "      <td>...</td>\n",
       "      <td>...</td>\n",
       "      <td>...</td>\n",
       "      <td>...</td>\n",
       "      <td>...</td>\n",
       "      <td>...</td>\n",
       "      <td>...</td>\n",
       "      <td>...</td>\n",
       "      <td>...</td>\n",
       "    </tr>\n",
       "    <tr>\n",
       "      <th>667</th>\n",
       "      <td>0.00</td>\n",
       "      <td>3.51e-01</td>\n",
       "      <td>0.10</td>\n",
       "      <td>0.07</td>\n",
       "      <td>0.03</td>\n",
       "      <td>0.00</td>\n",
       "      <td>0.21</td>\n",
       "      <td>0.06</td>\n",
       "      <td>6.84e-02</td>\n",
       "      <td>0.04</td>\n",
       "      <td>...</td>\n",
       "      <td>0.28</td>\n",
       "      <td>0.03</td>\n",
       "      <td>0.07</td>\n",
       "      <td>0.12</td>\n",
       "      <td>0.29</td>\n",
       "      <td>1.00</td>\n",
       "      <td>0.10</td>\n",
       "      <td>1.88e-02</td>\n",
       "      <td>0.16</td>\n",
       "      <td>0.09</td>\n",
       "    </tr>\n",
       "    <tr>\n",
       "      <th>668</th>\n",
       "      <td>0.00</td>\n",
       "      <td>8.98e-02</td>\n",
       "      <td>0.14</td>\n",
       "      <td>0.08</td>\n",
       "      <td>0.05</td>\n",
       "      <td>0.02</td>\n",
       "      <td>0.07</td>\n",
       "      <td>0.12</td>\n",
       "      <td>2.02e-01</td>\n",
       "      <td>0.11</td>\n",
       "      <td>...</td>\n",
       "      <td>0.08</td>\n",
       "      <td>0.06</td>\n",
       "      <td>0.10</td>\n",
       "      <td>0.08</td>\n",
       "      <td>0.12</td>\n",
       "      <td>0.10</td>\n",
       "      <td>1.00</td>\n",
       "      <td>0.00e+00</td>\n",
       "      <td>0.15</td>\n",
       "      <td>0.12</td>\n",
       "    </tr>\n",
       "    <tr>\n",
       "      <th>669</th>\n",
       "      <td>0.07</td>\n",
       "      <td>6.22e-03</td>\n",
       "      <td>0.09</td>\n",
       "      <td>0.09</td>\n",
       "      <td>0.02</td>\n",
       "      <td>0.02</td>\n",
       "      <td>0.08</td>\n",
       "      <td>0.06</td>\n",
       "      <td>2.95e-02</td>\n",
       "      <td>0.04</td>\n",
       "      <td>...</td>\n",
       "      <td>0.02</td>\n",
       "      <td>0.03</td>\n",
       "      <td>0.08</td>\n",
       "      <td>0.09</td>\n",
       "      <td>0.03</td>\n",
       "      <td>0.02</td>\n",
       "      <td>0.00</td>\n",
       "      <td>1.00e+00</td>\n",
       "      <td>0.05</td>\n",
       "      <td>0.09</td>\n",
       "    </tr>\n",
       "    <tr>\n",
       "      <th>670</th>\n",
       "      <td>0.00</td>\n",
       "      <td>1.46e-01</td>\n",
       "      <td>0.11</td>\n",
       "      <td>0.04</td>\n",
       "      <td>0.06</td>\n",
       "      <td>0.00</td>\n",
       "      <td>0.06</td>\n",
       "      <td>0.22</td>\n",
       "      <td>3.38e-01</td>\n",
       "      <td>0.15</td>\n",
       "      <td>...</td>\n",
       "      <td>0.14</td>\n",
       "      <td>0.10</td>\n",
       "      <td>0.10</td>\n",
       "      <td>0.11</td>\n",
       "      <td>0.19</td>\n",
       "      <td>0.16</td>\n",
       "      <td>0.15</td>\n",
       "      <td>4.84e-02</td>\n",
       "      <td>1.00</td>\n",
       "      <td>0.22</td>\n",
       "    </tr>\n",
       "    <tr>\n",
       "      <th>671</th>\n",
       "      <td>0.00</td>\n",
       "      <td>7.45e-02</td>\n",
       "      <td>0.16</td>\n",
       "      <td>0.14</td>\n",
       "      <td>0.22</td>\n",
       "      <td>0.07</td>\n",
       "      <td>0.21</td>\n",
       "      <td>0.35</td>\n",
       "      <td>1.83e-01</td>\n",
       "      <td>0.16</td>\n",
       "      <td>...</td>\n",
       "      <td>0.08</td>\n",
       "      <td>0.08</td>\n",
       "      <td>0.19</td>\n",
       "      <td>0.20</td>\n",
       "      <td>0.07</td>\n",
       "      <td>0.09</td>\n",
       "      <td>0.12</td>\n",
       "      <td>9.19e-02</td>\n",
       "      <td>0.22</td>\n",
       "      <td>1.00</td>\n",
       "    </tr>\n",
       "  </tbody>\n",
       "</table>\n",
       "<p>671 rows × 671 columns</p>\n",
       "</div>"
      ],
      "text/plain": [
       "      1         2     3     4     5     6     7     8         9     10   ...  \\\n",
       "1    1.00  0.00e+00  0.00  0.07  0.02  0.00  0.08  0.00  1.38e-02  0.00  ...   \n",
       "2    0.00  1.00e+00  0.10  0.11  0.10  0.00  0.18  0.11  1.18e-01  0.05  ...   \n",
       "3    0.00  1.04e-01  1.00  0.08  0.15  0.04  0.17  0.27  1.43e-01  0.08  ...   \n",
       "4    0.07  1.07e-01  0.08  1.00  0.11  0.07  0.29  0.15  9.89e-03  0.10  ...   \n",
       "5    0.02  1.04e-01  0.15  0.11  1.00  0.07  0.08  0.13  9.35e-02  0.04  ...   \n",
       "..    ...       ...   ...   ...   ...   ...   ...   ...       ...   ...  ...   \n",
       "667  0.00  3.51e-01  0.10  0.07  0.03  0.00  0.21  0.06  6.84e-02  0.04  ...   \n",
       "668  0.00  8.98e-02  0.14  0.08  0.05  0.02  0.07  0.12  2.02e-01  0.11  ...   \n",
       "669  0.07  6.22e-03  0.09  0.09  0.02  0.02  0.08  0.06  2.95e-02  0.04  ...   \n",
       "670  0.00  1.46e-01  0.11  0.04  0.06  0.00  0.06  0.22  3.38e-01  0.15  ...   \n",
       "671  0.00  7.45e-02  0.16  0.14  0.22  0.07  0.21  0.35  1.83e-01  0.16  ...   \n",
       "\n",
       "      662   663   664   665   666   667   668       669   670   671  \n",
       "1    0.00  0.00  0.02  0.03  0.00  0.00  0.00  6.72e-02  0.00  0.00  \n",
       "2    0.46  0.04  0.07  0.15  0.43  0.35  0.09  6.22e-03  0.15  0.07  \n",
       "3    0.16  0.07  0.14  0.16  0.19  0.10  0.14  8.54e-02  0.11  0.16  \n",
       "4    0.11  0.03  0.11  0.21  0.13  0.07  0.08  9.22e-02  0.04  0.14  \n",
       "5    0.19  0.02  0.11  0.20  0.15  0.03  0.05  2.06e-02  0.06  0.22  \n",
       "..    ...   ...   ...   ...   ...   ...   ...       ...   ...   ...  \n",
       "667  0.28  0.03  0.07  0.12  0.29  1.00  0.10  1.88e-02  0.16  0.09  \n",
       "668  0.08  0.06  0.10  0.08  0.12  0.10  1.00  0.00e+00  0.15  0.12  \n",
       "669  0.02  0.03  0.08  0.09  0.03  0.02  0.00  1.00e+00  0.05  0.09  \n",
       "670  0.14  0.10  0.10  0.11  0.19  0.16  0.15  4.84e-02  1.00  0.22  \n",
       "671  0.08  0.08  0.19  0.20  0.07  0.09  0.12  9.19e-02  0.22  1.00  \n",
       "\n",
       "[671 rows x 671 columns]"
      ]
     },
     "execution_count": 9,
     "metadata": {},
     "output_type": "execute_result"
    }
   ],
   "source": [
    "sims = pd.DataFrame(data = np.matmul(normmat, normmat.T), index = userIds, columns=userIds)\n",
    "sims"
   ]
  },
  {
   "cell_type": "markdown",
   "metadata": {},
   "source": [
    "## Similarity Example"
   ]
  },
  {
   "cell_type": "code",
   "execution_count": 10,
   "metadata": {},
   "outputs": [],
   "source": [
    "userId = 33\n",
    "topK = 5"
   ]
  },
  {
   "cell_type": "code",
   "execution_count": 11,
   "metadata": {},
   "outputs": [
    {
     "data": {
      "text/plain": [
       "598    0.20\n",
       "457    0.20\n",
       "350    0.19\n",
       "461    0.19\n",
       "15     0.18\n",
       "Name: 33, dtype: float64"
      ]
     },
     "execution_count": 11,
     "metadata": {},
     "output_type": "execute_result"
    }
   ],
   "source": [
    "simUsers = sims.loc[userId, :].sort_values(ascending=False).head(6).tail(5)\n",
    "simUsers"
   ]
  },
  {
   "cell_type": "markdown",
   "metadata": {},
   "source": [
    "show liked user movies"
   ]
  },
  {
   "cell_type": "code",
   "execution_count": 12,
   "metadata": {},
   "outputs": [],
   "source": [
    "def displayLikedUserMovies(movies, userId, topK):\n",
    "    topKRatings = train[train['userId'] == userId].sort_values(by='rating', ascending=False).head(topK)\n",
    "    display(HTML(f\"<h3>{userId}</h3><hr>\"))\n",
    "    displayMovies(movies, topKRatings.movieId.values, topKRatings.rating.values)"
   ]
  },
  {
   "cell_type": "code",
   "execution_count": 13,
   "metadata": {},
   "outputs": [
    {
     "data": {
      "text/html": [
       "<h3>598</h3><hr>"
      ],
      "text/plain": [
       "<IPython.core.display.HTML object>"
      ]
     },
     "metadata": {},
     "output_type": "display_data"
    },
    {
     "data": {
      "text/html": [
       "\n",
       "            <div style=\"display:inline-block;min-width:150px;max-width:150px; vertical-align:top\">\n",
       "                <img src='https://images-na.ssl-images-amazon.com/images/M/MV5BNGYyZGM5MGMtYTY2Ni00M2Y1LWIzNjQtYWUzM2VlNGVhMDNhXkEyXkFqcGdeQXVyMTMxODk2OTU@._V1_UX182_CR0,0,182,268_AL_.jpg' width=120> <br/>\n",
       "                <span>Pirates of the Caribbean: The Curse of the Black Pearl (2003)</span> <br/>\n",
       "                <span>5.0</span> <br/>\n",
       "                <ul><li>Action</li><li>Adventure</li><li>Comedy</li><li>Fantasy</li></ul>\n",
       "            </div>\n",
       "        \n",
       "            <div style=\"display:inline-block;min-width:150px;max-width:150px; vertical-align:top\">\n",
       "                <img src='https://images-na.ssl-images-amazon.com/images/M/MV5BZjg1ZmViMmEtYzIxNi00MzJlLTk4MDktNTE2ZDkwMzEyMjBhXkEyXkFqcGdeQXVyNDk3NzU2MTQ@._V1_UX182_CR0,0,182,268_AL_.jpg' width=120> <br/>\n",
       "                <span>Swingers (1996)</span> <br/>\n",
       "                <span>5.0</span> <br/>\n",
       "                <ul><li>Comedy</li><li>Drama</li></ul>\n",
       "            </div>\n",
       "        \n",
       "            <div style=\"display:inline-block;min-width:150px;max-width:150px; vertical-align:top\">\n",
       "                <img src='https://images-na.ssl-images-amazon.com/images/M/MV5BMGM4M2Q5N2MtNThkZS00NTc1LTk1NTItNWEyZjJjNDRmNDk5XkEyXkFqcGdeQXVyMjA0MDQ0Mjc@._V1_UX182_CR0,0,182,268_AL_.jpg' width=120> <br/>\n",
       "                <span>Princess Bride, The (1987)</span> <br/>\n",
       "                <span>5.0</span> <br/>\n",
       "                <ul><li>Action</li><li>Adventure</li><li>Comedy</li><li>Fantasy</li><li>Romance</li></ul>\n",
       "            </div>\n",
       "        \n",
       "            <div style=\"display:inline-block;min-width:150px;max-width:150px; vertical-align:top\">\n",
       "                <img src='https://images-na.ssl-images-amazon.com/images/M/MV5BODllZjg2YjUtNWEzNy00ZGY2LTgyZmQtYTkxNDYyOWM3OTUyXkEyXkFqcGdeQXVyMTQxNzMzNDI@._V1_UX182_CR0,0,182,268_AL_.jpg' width=120> <br/>\n",
       "                <span>Star Wars: Episode VI - Return of the Jedi (1983)</span> <br/>\n",
       "                <span>5.0</span> <br/>\n",
       "                <ul><li>Action</li><li>Adventure</li><li>Sci-Fi</li></ul>\n",
       "            </div>\n",
       "        \n",
       "            <div style=\"display:inline-block;min-width:150px;max-width:150px; vertical-align:top\">\n",
       "                <img src='https://images-na.ssl-images-amazon.com/images/M/MV5BNzc2ZThkOGItZGY5YS00MDYwLTkyOTAtNDRmZWIwMGRhYTc0L2ltYWdlXkEyXkFqcGdeQXVyNjU0OTQ0OTY@._V1_UX182_CR0,0,182,268_AL_.jpg' width=120> <br/>\n",
       "                <span>Full Metal Jacket (1987)</span> <br/>\n",
       "                <span>5.0</span> <br/>\n",
       "                <ul><li>Drama</li><li>War</li></ul>\n",
       "            </div>\n",
       "        "
      ],
      "text/plain": [
       "<IPython.core.display.HTML object>"
      ]
     },
     "metadata": {},
     "output_type": "display_data"
    },
    {
     "data": {
      "text/html": [
       "<h3>457</h3><hr>"
      ],
      "text/plain": [
       "<IPython.core.display.HTML object>"
      ]
     },
     "metadata": {},
     "output_type": "display_data"
    },
    {
     "data": {
      "text/html": [
       "\n",
       "            <div style=\"display:inline-block;min-width:150px;max-width:150px; vertical-align:top\">\n",
       "                <img src='https://images-na.ssl-images-amazon.com/images/M/MV5BMjA5NTUwNjI1N15BMl5BanBnXkFtZTYwOTE1ODc5._V1_UX182_CR0,0,182,268_AL_.jpg' width=120> <br/>\n",
       "                <span>Eyes Wide Shut (1999)</span> <br/>\n",
       "                <span>5.0</span> <br/>\n",
       "                <ul><li>Drama</li><li>Mystery</li><li>Thriller</li></ul>\n",
       "            </div>\n",
       "        \n",
       "            <div style=\"display:inline-block;min-width:150px;max-width:150px; vertical-align:top\">\n",
       "                <img src='https://images-na.ssl-images-amazon.com/images/M/MV5BMTY3MjM1Mzc4N15BMl5BanBnXkFtZTgwODM0NzAxMDE@._V1_UX182_CR0,0,182,268_AL_.jpg' width=120> <br/>\n",
       "                <span>Clockwork Orange, A (1971)</span> <br/>\n",
       "                <span>5.0</span> <br/>\n",
       "                <ul><li>Crime</li><li>Drama</li><li>Sci-Fi</li><li>Thriller</li></ul>\n",
       "            </div>\n",
       "        \n",
       "            <div style=\"display:inline-block;min-width:150px;max-width:150px; vertical-align:top\">\n",
       "                <img src='https://images-na.ssl-images-amazon.com/images/M/MV5BZWFlYmY2MGEtZjVkYS00YzU4LTg0YjQtYzY1ZGE3NTA5NGQxXkEyXkFqcGdeQXVyMTQxNzMzNDI@._V1_UX182_CR0,0,182,268_AL_.jpg' width=120> <br/>\n",
       "                <span>Shining, The (1980)</span> <br/>\n",
       "                <span>5.0</span> <br/>\n",
       "                <ul><li>Horror</li></ul>\n",
       "            </div>\n",
       "        \n",
       "            <div style=\"display:inline-block;min-width:150px;max-width:150px; vertical-align:top\">\n",
       "                <img src='https://images-na.ssl-images-amazon.com/images/M/MV5BMTgxNzY3MzUxOV5BMl5BanBnXkFtZTcwMDA0NjMyNA@@._V1_UX182_CR0,0,182,268_AL_.jpg' width=120> <br/>\n",
       "                <span>Fargo (1996)</span> <br/>\n",
       "                <span>5.0</span> <br/>\n",
       "                <ul><li>Comedy</li><li>Crime</li><li>Drama</li><li>Thriller</li></ul>\n",
       "            </div>\n",
       "        \n",
       "            <div style=\"display:inline-block;min-width:150px;max-width:150px; vertical-align:top\">\n",
       "                <img src='https://images-na.ssl-images-amazon.com/images/M/MV5BMjdjMGU3MGYtN2Y5ZC00MTE4LWE4YWQtMTBhMjc3MTk0ZDUwXkEyXkFqcGdeQXVyNjU0OTQ0OTY@._V1_UX182_CR0,0,182,268_AL_.jpg' width=120> <br/>\n",
       "                <span>Léon: The Professional (a.k.a. The Professional) (Léon) (1994)</span> <br/>\n",
       "                <span>5.0</span> <br/>\n",
       "                <ul><li>Action</li><li>Crime</li><li>Drama</li><li>Thriller</li></ul>\n",
       "            </div>\n",
       "        "
      ],
      "text/plain": [
       "<IPython.core.display.HTML object>"
      ]
     },
     "metadata": {},
     "output_type": "display_data"
    },
    {
     "data": {
      "text/html": [
       "<h3>350</h3><hr>"
      ],
      "text/plain": [
       "<IPython.core.display.HTML object>"
      ]
     },
     "metadata": {},
     "output_type": "display_data"
    },
    {
     "data": {
      "text/html": [
       "\n",
       "            <div style=\"display:inline-block;min-width:150px;max-width:150px; vertical-align:top\">\n",
       "                <img src='https://images-na.ssl-images-amazon.com/images/M/MV5BZWQxZTJmN2YtMjdmMS00ZTFmLTk5ZDYtODA4ZDA1YWQ2MjMyL2ltYWdlL2ltYWdlXkEyXkFqcGdeQXVyNjU0OTQ0OTY@._V1_UX182_CR0,0,182,268_AL_.jpg' width=120> <br/>\n",
       "                <span>Ghost Dog: The Way of the Samurai (1999)</span> <br/>\n",
       "                <span>5.0</span> <br/>\n",
       "                <ul><li>Crime</li><li>Drama</li></ul>\n",
       "            </div>\n",
       "        \n",
       "            <div style=\"display:inline-block;min-width:150px;max-width:150px; vertical-align:top\">\n",
       "                <img src='https://images-na.ssl-images-amazon.com/images/M/MV5BODA4ZGRhZjgtMTYwMy00MDQzLTkxNTUtYTYwZjE5NDRiZTRjL2ltYWdlL2ltYWdlXkEyXkFqcGdeQXVyMTQxNzMzNDI@._V1_UX182_CR0,0,182,268_AL_.jpg' width=120> <br/>\n",
       "                <span>Road Trip (2000)</span> <br/>\n",
       "                <span>5.0</span> <br/>\n",
       "                <ul><li>Comedy</li></ul>\n",
       "            </div>\n",
       "        \n",
       "            <div style=\"display:inline-block;min-width:150px;max-width:150px; vertical-align:top\">\n",
       "                <img src='https://images-na.ssl-images-amazon.com/images/M/MV5BNWEzM2NjMjctM2U3Yi00MGZhLWJlYTYtMWEyYjVjZDEzZjM4XkEyXkFqcGdeQXVyMTQxNzMzNDI@._V1_UX182_CR0,0,182,268_AL_.jpg' width=120> <br/>\n",
       "                <span>Rat Race (2001)</span> <br/>\n",
       "                <span>5.0</span> <br/>\n",
       "                <ul><li>Comedy</li></ul>\n",
       "            </div>\n",
       "        \n",
       "            <div style=\"display:inline-block;min-width:150px;max-width:150px; vertical-align:top\">\n",
       "                <img src='https://images-na.ssl-images-amazon.com/images/M/MV5BMjNkMzc2N2QtNjVlNS00ZTk5LTg0MTgtODY2MDAwNTMwZjBjXkEyXkFqcGdeQXVyNDk3NzU2MTQ@._V1_UX182_CR0,0,182,268_AL_.jpg' width=120> <br/>\n",
       "                <span>Indiana Jones and the Last Crusade (1989)</span> <br/>\n",
       "                <span>5.0</span> <br/>\n",
       "                <ul><li>Action</li><li>Adventure</li></ul>\n",
       "            </div>\n",
       "        \n",
       "            <div style=\"display:inline-block;min-width:150px;max-width:150px; vertical-align:top\">\n",
       "                <img src='https://images-na.ssl-images-amazon.com/images/M/MV5BZDhlZTYxOTYtYTk3Ny00ZDljLTk3ZmItZTcxZWU5YTIyYmFkXkEyXkFqcGdeQXVyMTQxNzMzNDI@._V1_UX182_CR0,0,182,268_AL_.jpg' width=120> <br/>\n",
       "                <span>Pink Floyd: The Wall (1982)</span> <br/>\n",
       "                <span>5.0</span> <br/>\n",
       "                <ul><li>Drama</li><li>Musical</li></ul>\n",
       "            </div>\n",
       "        "
      ],
      "text/plain": [
       "<IPython.core.display.HTML object>"
      ]
     },
     "metadata": {},
     "output_type": "display_data"
    },
    {
     "data": {
      "text/html": [
       "<h3>461</h3><hr>"
      ],
      "text/plain": [
       "<IPython.core.display.HTML object>"
      ]
     },
     "metadata": {},
     "output_type": "display_data"
    },
    {
     "data": {
      "text/html": [
       "\n",
       "            <div style=\"display:inline-block;min-width:150px;max-width:150px; vertical-align:top\">\n",
       "                <img src='https://images-na.ssl-images-amazon.com/images/M/MV5BNjNhZTk0ZmEtNjJhMi00YzFlLWE1MmEtYzM1M2ZmMGMwMTU4XkEyXkFqcGdeQXVyNjU0OTQ0OTY@._V1_UX182_CR0,0,182,268_AL_.jpg' width=120> <br/>\n",
       "                <span>Silence of the Lambs, The (1991)</span> <br/>\n",
       "                <span>5.0</span> <br/>\n",
       "                <ul><li>Crime</li><li>Horror</li><li>Thriller</li></ul>\n",
       "            </div>\n",
       "        \n",
       "            <div style=\"display:inline-block;min-width:150px;max-width:150px; vertical-align:top\">\n",
       "                <img src='https://images-na.ssl-images-amazon.com/images/M/MV5BZGY5Y2RjMmItNDg5Yy00NjUwLThjMTEtNDc2OGUzNTBiYmM1XkEyXkFqcGdeQXVyNjU0OTQ0OTY@._V1_UX182_CR0,0,182,268_AL_.jpg' width=120> <br/>\n",
       "                <span>Fight Club (1999)</span> <br/>\n",
       "                <span>5.0</span> <br/>\n",
       "                <ul><li>Action</li><li>Crime</li><li>Drama</li><li>Thriller</li></ul>\n",
       "            </div>\n",
       "        \n",
       "            <div style=\"display:inline-block;min-width:150px;max-width:150px; vertical-align:top\">\n",
       "                <img src='https://images-na.ssl-images-amazon.com/images/M/MV5BYzAwOWUzMGMtMThjMS00YTZiLTgzZTUtZmQ5NDdkN2RlMTE4XkEyXkFqcGdeQXVyMTQxNzMzNDI@._V1_UX182_CR0,0,182,268_AL_.jpg' width=120> <br/>\n",
       "                <span>Grosse Pointe Blank (1997)</span> <br/>\n",
       "                <span>5.0</span> <br/>\n",
       "                <ul><li>Comedy</li><li>Crime</li><li>Romance</li></ul>\n",
       "            </div>\n",
       "        \n",
       "            <div style=\"display:inline-block;min-width:150px;max-width:150px; vertical-align:top\">\n",
       "                <img src='https://images-na.ssl-images-amazon.com/images/M/MV5BYWY1ZWQ5YjMtMDE0MS00NWIzLWE1M2YtODYzYTk2OTNlYWZmXkEyXkFqcGdeQXVyNDUyOTg3Njg@._V1_UX182_CR0,0,182,268_AL_.jpg' width=120> <br/>\n",
       "                <span>Lord of the Rings: The Return of the King, The (2003)</span> <br/>\n",
       "                <span>5.0</span> <br/>\n",
       "                <ul><li>Action</li><li>Adventure</li><li>Drama</li><li>Fantasy</li></ul>\n",
       "            </div>\n",
       "        \n",
       "            <div style=\"display:inline-block;min-width:150px;max-width:150px; vertical-align:top\">\n",
       "                <img src='https://images-na.ssl-images-amazon.com/images/M/MV5BZmU0M2Y1OGUtZjIxNi00ZjBkLTg1MjgtOWIyNThiZWIwYjRiXkEyXkFqcGdeQXVyMTQxNzMzNDI@._V1_UX182_CR0,0,182,268_AL_.jpg' width=120> <br/>\n",
       "                <span>Back to the Future (1985)</span> <br/>\n",
       "                <span>5.0</span> <br/>\n",
       "                <ul><li>Adventure</li><li>Comedy</li><li>Sci-Fi</li></ul>\n",
       "            </div>\n",
       "        "
      ],
      "text/plain": [
       "<IPython.core.display.HTML object>"
      ]
     },
     "metadata": {},
     "output_type": "display_data"
    },
    {
     "data": {
      "text/html": [
       "<h3>15</h3><hr>"
      ],
      "text/plain": [
       "<IPython.core.display.HTML object>"
      ]
     },
     "metadata": {},
     "output_type": "display_data"
    },
    {
     "data": {
      "text/html": [
       "\n",
       "            <div style=\"display:inline-block;min-width:150px;max-width:150px; vertical-align:top\">\n",
       "                <img src='https://images-na.ssl-images-amazon.com/images/M/MV5BMjA2NjU5MTg5OF5BMl5BanBnXkFtZTgwOTkyMzQxMDE@._V1_UX182_CR0,0,182,268_AL_.jpg' width=120> <br/>\n",
       "                <span>Scream (1996)</span> <br/>\n",
       "                <span>5.0</span> <br/>\n",
       "                <ul><li>Comedy</li><li>Horror</li><li>Mystery</li><li>Thriller</li></ul>\n",
       "            </div>\n",
       "        \n",
       "            <div style=\"display:inline-block;min-width:150px;max-width:150px; vertical-align:top\">\n",
       "                <img src='https://images-na.ssl-images-amazon.com/images/M/MV5BMTkxMTA5OTAzMl5BMl5BanBnXkFtZTgwNjA5MDc3NjE@._V1_UX182_CR0,0,182,268_AL_.jpg' width=120> <br/>\n",
       "                <span>Pulp Fiction (1994)</span> <br/>\n",
       "                <span>5.0</span> <br/>\n",
       "                <ul><li>Comedy</li><li>Crime</li><li>Drama</li><li>Thriller</li></ul>\n",
       "            </div>\n",
       "        \n",
       "            <div style=\"display:inline-block;min-width:150px;max-width:150px; vertical-align:top\">\n",
       "                <img src='https://images-na.ssl-images-amazon.com/images/M/MV5BMTI2NjUwODY0Nl5BMl5BanBnXkFtZTcwMjYyODcxMQ@@._V1_UY268_CR4,0,182,268_AL_.jpg' width=120> <br/>\n",
       "                <span>Lone Star (1996)</span> <br/>\n",
       "                <span>5.0</span> <br/>\n",
       "                <ul><li>Drama</li><li>Mystery</li><li>Western</li></ul>\n",
       "            </div>\n",
       "        \n",
       "            <div style=\"display:inline-block;min-width:150px;max-width:150px; vertical-align:top\">\n",
       "                <img src='https://images-na.ssl-images-amazon.com/images/M/MV5BZTRmNjQ1ZDYtNDgzMy00OGE0LWE4N2YtNTkzNWQ5ZDhlNGJmL2ltYWdlL2ltYWdlXkEyXkFqcGdeQXVyNjU0OTQ0OTY@._V1_UY268_CR3,0,182,268_AL_.jpg' width=120> <br/>\n",
       "                <span>Godfather, The (1972)</span> <br/>\n",
       "                <span>5.0</span> <br/>\n",
       "                <ul><li>Crime</li><li>Drama</li></ul>\n",
       "            </div>\n",
       "        \n",
       "            <div style=\"display:inline-block;min-width:150px;max-width:150px; vertical-align:top\">\n",
       "                <img src='https://images-na.ssl-images-amazon.com/images/M/MV5BYzQ2OTk4N2QtOGQwNy00MmI3LWEwNmEtOTk0OTY3NDk2MGJkL2ltYWdlL2ltYWdlXkEyXkFqcGdeQXVyNjc1NTYyMjg@._V1_UX182_CR0,0,182,268_AL_.jpg' width=120> <br/>\n",
       "                <span>Star Wars: Episode IV - A New Hope (1977)</span> <br/>\n",
       "                <span>5.0</span> <br/>\n",
       "                <ul><li>Action</li><li>Adventure</li><li>Sci-Fi</li></ul>\n",
       "            </div>\n",
       "        "
      ],
      "text/plain": [
       "<IPython.core.display.HTML object>"
      ]
     },
     "metadata": {},
     "output_type": "display_data"
    }
   ],
   "source": [
    "for index, simUser in simUsers.iteritems():\n",
    "    displayLikedUserMovies(movies, index, topK)"
   ]
  },
  {
   "cell_type": "markdown",
   "metadata": {},
   "source": [
    "## User Rating Prediction"
   ]
  },
  {
   "cell_type": "markdown",
   "metadata": {},
   "source": [
    "set test user"
   ]
  },
  {
   "cell_type": "code",
   "execution_count": 14,
   "metadata": {},
   "outputs": [],
   "source": [
    "userId = 33"
   ]
  },
  {
   "cell_type": "markdown",
   "metadata": {},
   "source": [
    "### Predict Ratings"
   ]
  },
  {
   "cell_type": "code",
   "execution_count": 15,
   "metadata": {},
   "outputs": [],
   "source": [
    "ratingDF = pd.DataFrame(data=matrix, index=userIds, columns=movieIds)\n",
    "binDF = ratingDF.applymap(lambda x: math.ceil(x/10))"
   ]
  },
  {
   "cell_type": "code",
   "execution_count": 16,
   "metadata": {},
   "outputs": [
    {
     "data": {
      "text/html": [
       "<div>\n",
       "<style scoped>\n",
       "    .dataframe tbody tr th:only-of-type {\n",
       "        vertical-align: middle;\n",
       "    }\n",
       "\n",
       "    .dataframe tbody tr th {\n",
       "        vertical-align: top;\n",
       "    }\n",
       "\n",
       "    .dataframe thead th {\n",
       "        text-align: right;\n",
       "    }\n",
       "</style>\n",
       "<table border=\"1\" class=\"dataframe\">\n",
       "  <thead>\n",
       "    <tr style=\"text-align: right;\">\n",
       "      <th></th>\n",
       "      <th>avg</th>\n",
       "    </tr>\n",
       "  </thead>\n",
       "  <tbody>\n",
       "    <tr>\n",
       "      <th>1</th>\n",
       "      <td>2.69</td>\n",
       "    </tr>\n",
       "    <tr>\n",
       "      <th>2</th>\n",
       "      <td>3.47</td>\n",
       "    </tr>\n",
       "    <tr>\n",
       "      <th>3</th>\n",
       "      <td>3.60</td>\n",
       "    </tr>\n",
       "    <tr>\n",
       "      <th>4</th>\n",
       "      <td>4.36</td>\n",
       "    </tr>\n",
       "    <tr>\n",
       "      <th>5</th>\n",
       "      <td>3.89</td>\n",
       "    </tr>\n",
       "    <tr>\n",
       "      <th>...</th>\n",
       "      <td>...</td>\n",
       "    </tr>\n",
       "    <tr>\n",
       "      <th>667</th>\n",
       "      <td>3.67</td>\n",
       "    </tr>\n",
       "    <tr>\n",
       "      <th>668</th>\n",
       "      <td>3.83</td>\n",
       "    </tr>\n",
       "    <tr>\n",
       "      <th>669</th>\n",
       "      <td>3.35</td>\n",
       "    </tr>\n",
       "    <tr>\n",
       "      <th>670</th>\n",
       "      <td>3.72</td>\n",
       "    </tr>\n",
       "    <tr>\n",
       "      <th>671</th>\n",
       "      <td>3.93</td>\n",
       "    </tr>\n",
       "  </tbody>\n",
       "</table>\n",
       "<p>671 rows × 1 columns</p>\n",
       "</div>"
      ],
      "text/plain": [
       "      avg\n",
       "1    2.69\n",
       "2    3.47\n",
       "3    3.60\n",
       "4    4.36\n",
       "5    3.89\n",
       "..    ...\n",
       "667  3.67\n",
       "668  3.83\n",
       "669  3.35\n",
       "670  3.72\n",
       "671  3.93\n",
       "\n",
       "[671 rows x 1 columns]"
      ]
     },
     "execution_count": 16,
     "metadata": {},
     "output_type": "execute_result"
    }
   ],
   "source": [
    "userAvgRatings = pd.DataFrame(data = ratingDF.sum(axis=1).divide(binDF.sum(axis=1)), columns=['avg'])\n",
    "userAvgRatings"
   ]
  },
  {
   "cell_type": "code",
   "execution_count": 17,
   "metadata": {},
   "outputs": [],
   "source": [
    "simUsers = sims.loc[userId, :]\n",
    "simUsers[userId] = 0"
   ]
  },
  {
   "cell_type": "code",
   "execution_count": 18,
   "metadata": {},
   "outputs": [
    {
     "data": {
      "text/plain": [
       "31       2.84\n",
       "1061     3.44\n",
       "1129     3.15\n",
       "1172     3.80\n",
       "1287     3.68\n",
       "         ... \n",
       "64997    1.96\n",
       "72380    2.96\n",
       "129      2.97\n",
       "4736     0.97\n",
       "6425     0.41\n",
       "Name: pred, Length: 8740, dtype: float64"
      ]
     },
     "execution_count": 18,
     "metadata": {},
     "output_type": "execute_result"
    }
   ],
   "source": [
    "simRatingSums = (ratingDF - binDF.T.multiply(userAvgRatings['avg']).T).T.multiply(simUsers).T.sum(axis=0)\n",
    "simSums = binDF.T.multiply(simUsers).T.sum(axis=0)\n",
    "recItemRatings = userAvgRatings.loc[userId].avg + pd.Series(data = simRatingSums.divide(simSums), name='pred')\n",
    "recItemRatings.fillna(0, inplace=True)\n",
    "\n",
    "recItemRatings"
   ]
  },
  {
   "cell_type": "markdown",
   "metadata": {},
   "source": [
    "### Compute Errors (MAE, RMSE)"
   ]
  },
  {
   "cell_type": "code",
   "execution_count": 19,
   "metadata": {},
   "outputs": [
    {
     "name": "stdout",
     "output_type": "stream",
     "text": [
      "MAE : 0.5524\n",
      "RMSE: 0.6825\n"
     ]
    }
   ],
   "source": [
    "userTestRatings = pd.DataFrame(data=test[test['userId'] == userId])\n",
    "\n",
    "temp = userTestRatings.join(recItemRatings.loc[userTestRatings['movieId']], on='movieId')\n",
    "\n",
    "mae = getMAE(temp['rating'], temp['pred'])\n",
    "rmse = getRMSE(temp['rating'], temp['pred'])\n",
    "\n",
    "print(f\"MAE : {mae:.4f}\")\n",
    "print(f\"RMSE: {rmse:.4f}\")"
   ]
  },
  {
   "cell_type": "code",
   "execution_count": 20,
   "metadata": {},
   "outputs": [
    {
     "data": {
      "text/html": [
       "<div>\n",
       "<style scoped>\n",
       "    .dataframe tbody tr th:only-of-type {\n",
       "        vertical-align: middle;\n",
       "    }\n",
       "\n",
       "    .dataframe tbody tr th {\n",
       "        vertical-align: top;\n",
       "    }\n",
       "\n",
       "    .dataframe thead th {\n",
       "        text-align: right;\n",
       "    }\n",
       "</style>\n",
       "<table border=\"1\" class=\"dataframe\">\n",
       "  <thead>\n",
       "    <tr style=\"text-align: right;\">\n",
       "      <th></th>\n",
       "      <th>userId</th>\n",
       "      <th>movieId</th>\n",
       "      <th>rating</th>\n",
       "      <th>pred</th>\n",
       "    </tr>\n",
       "  </thead>\n",
       "  <tbody>\n",
       "    <tr>\n",
       "      <th>6187</th>\n",
       "      <td>33</td>\n",
       "      <td>1060</td>\n",
       "      <td>4.0</td>\n",
       "      <td>4.00</td>\n",
       "    </tr>\n",
       "    <tr>\n",
       "      <th>6198</th>\n",
       "      <td>33</td>\n",
       "      <td>1291</td>\n",
       "      <td>4.0</td>\n",
       "      <td>3.67</td>\n",
       "    </tr>\n",
       "    <tr>\n",
       "      <th>6199</th>\n",
       "      <td>33</td>\n",
       "      <td>1347</td>\n",
       "      <td>2.0</td>\n",
       "      <td>3.34</td>\n",
       "    </tr>\n",
       "    <tr>\n",
       "      <th>6208</th>\n",
       "      <td>33</td>\n",
       "      <td>1982</td>\n",
       "      <td>4.0</td>\n",
       "      <td>3.45</td>\n",
       "    </tr>\n",
       "    <tr>\n",
       "      <th>6212</th>\n",
       "      <td>33</td>\n",
       "      <td>2005</td>\n",
       "      <td>4.0</td>\n",
       "      <td>3.60</td>\n",
       "    </tr>\n",
       "    <tr>\n",
       "      <th>6215</th>\n",
       "      <td>33</td>\n",
       "      <td>2064</td>\n",
       "      <td>5.0</td>\n",
       "      <td>4.00</td>\n",
       "    </tr>\n",
       "    <tr>\n",
       "      <th>6257</th>\n",
       "      <td>33</td>\n",
       "      <td>3794</td>\n",
       "      <td>4.0</td>\n",
       "      <td>3.27</td>\n",
       "    </tr>\n",
       "    <tr>\n",
       "      <th>6292</th>\n",
       "      <td>33</td>\n",
       "      <td>4678</td>\n",
       "      <td>3.0</td>\n",
       "      <td>3.54</td>\n",
       "    </tr>\n",
       "    <tr>\n",
       "      <th>6303</th>\n",
       "      <td>33</td>\n",
       "      <td>4974</td>\n",
       "      <td>3.0</td>\n",
       "      <td>2.91</td>\n",
       "    </tr>\n",
       "  </tbody>\n",
       "</table>\n",
       "</div>"
      ],
      "text/plain": [
       "      userId  movieId  rating  pred\n",
       "6187      33     1060     4.0  4.00\n",
       "6198      33     1291     4.0  3.67\n",
       "6199      33     1347     2.0  3.34\n",
       "6208      33     1982     4.0  3.45\n",
       "6212      33     2005     4.0  3.60\n",
       "6215      33     2064     5.0  4.00\n",
       "6257      33     3794     4.0  3.27\n",
       "6292      33     4678     3.0  3.54\n",
       "6303      33     4974     3.0  2.91"
      ]
     },
     "execution_count": 20,
     "metadata": {},
     "output_type": "execute_result"
    }
   ],
   "source": [
    "temp"
   ]
  }
 ],
 "metadata": {
  "interpreter": {
   "hash": "ac2eaa0ea0ebeafcc7822e65e46aa9d4f966f30b695406963e145ea4a91cd4fc"
  },
  "kernelspec": {
   "display_name": "Python 3.9.6 64-bit",
   "name": "python3"
  },
  "language_info": {
   "codemirror_mode": {
    "name": "ipython",
    "version": 3
   },
   "file_extension": ".py",
   "mimetype": "text/x-python",
   "name": "python",
   "nbconvert_exporter": "python",
   "pygments_lexer": "ipython3",
   "version": "3.9.6"
  }
 },
 "nbformat": 4,
 "nbformat_minor": 4
}
